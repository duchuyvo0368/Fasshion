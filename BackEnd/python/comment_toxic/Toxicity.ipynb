{
 "cells": [
  {
   "cell_type": "markdown",
   "metadata": {},
   "source": [
    "# 0. Install Dependencies and Bring in Data"
   ]
  },
  {
   "cell_type": "code",
   "execution_count": 1,
   "metadata": {
    "ExecuteTime": {
     "end_time": "2024-09-19T17:35:26.792903Z",
     "start_time": "2024-09-19T17:35:26.790586Z"
    },
    "tags": []
   },
   "outputs": [
    {
     "name": "stdout",
     "output_type": "stream",
     "text": [
      "Package                           Version\n",
      "--------------------------------- ------------------\n",
      "absl-py                           2.1.0\n",
      "aiobotocore                       2.12.3\n",
      "aiofiles                          23.2.1\n",
      "aiohttp                           3.9.5\n",
      "aioitertools                      0.7.1\n",
      "aiosignal                         1.2.0\n",
      "alabaster                         0.7.16\n",
      "altair                            5.0.1\n",
      "anaconda-anon-usage               0.4.4\n",
      "anaconda-catalogs                 0.2.0\n",
      "anaconda-client                   1.12.3\n",
      "anaconda-cloud-auth               0.5.1\n",
      "anaconda-navigator                2.6.0\n",
      "anaconda-project                  0.11.1\n",
      "annotated-types                   0.6.0\n",
      "anyio                             4.2.0\n",
      "app                               0.0.1\n",
      "appdirs                           1.4.4\n",
      "archspec                          0.2.3\n",
      "argon2-cffi                       21.3.0\n",
      "argon2-cffi-bindings              21.2.0\n",
      "arrow                             1.2.3\n",
      "asgiref                           3.8.1\n",
      "astroid                           2.14.2\n",
      "astropy                           6.1.0\n",
      "astropy-iers-data                 0.2024.6.3.0.31.14\n",
      "asttokens                         2.4.1\n",
      "astunparse                        1.6.3\n",
      "async-lru                         2.0.4\n",
      "atomicwrites                      1.4.0\n",
      "attrs                             23.1.0\n",
      "Automat                           20.2.0\n",
      "autopep8                          2.0.4\n",
      "Babel                             2.11.0\n",
      "bcrypt                            3.2.0\n",
      "beautifulsoup4                    4.12.3\n",
      "binaryornot                       0.4.4\n",
      "black                             24.4.2\n",
      "bleach                            4.1.0\n",
      "blinker                           1.6.2\n",
      "bokeh                             3.4.1\n",
      "boltons                           23.0.0\n",
      "botocore                          1.34.69\n",
      "Bottleneck                        1.3.7\n",
      "Brotli                            1.0.9\n",
      "cachetools                        5.3.3\n",
      "certifi                           2024.6.2\n",
      "cffi                              1.16.0\n",
      "chardet                           4.0.0\n",
      "charset-normalizer                2.0.4\n",
      "click                             8.1.7\n",
      "cloudpickle                       2.2.1\n",
      "colorama                          0.4.6\n",
      "colorcet                          3.1.0\n",
      "comm                              0.2.2\n",
      "conda                             24.5.0\n",
      "conda-build                       24.5.1\n",
      "conda-content-trust               0.2.0\n",
      "conda_index                       0.5.0\n",
      "conda-libmamba-solver             24.1.0\n",
      "conda-pack                        0.7.1\n",
      "conda-package-handling            2.3.0\n",
      "conda_package_streaming           0.10.0\n",
      "conda-repo-cli                    1.0.88\n",
      "conda-token                       0.5.0+1.g2209e04\n",
      "constantly                        23.10.4\n",
      "contourpy                         1.2.0\n",
      "cookiecutter                      2.6.0\n",
      "cryptography                      42.0.5\n",
      "cssselect                         1.2.0\n",
      "cycler                            0.11.0\n",
      "cytoolz                           0.12.2\n",
      "dask                              2024.5.0\n",
      "dask-expr                         1.1.0\n",
      "datashader                        0.16.2\n",
      "debugpy                           1.8.5\n",
      "decorator                         5.1.1\n",
      "defusedxml                        0.7.1\n",
      "diff-match-patch                  20200713\n",
      "dill                              0.3.8\n",
      "distributed                       2024.5.0\n",
      "distro                            1.9.0\n",
      "docstring-to-markdown             0.11\n",
      "docutils                          0.18.1\n",
      "entrypoints                       0.4\n",
      "et-xmlfile                        1.1.0\n",
      "executing                         2.0.1\n",
      "fastapi                           0.114.2\n",
      "fastjsonschema                    2.16.2\n",
      "ffmpy                             0.4.0\n",
      "filelock                          3.13.1\n",
      "flake8                            7.0.0\n",
      "Flask                             3.0.3\n",
      "Flask-SQLAlchemy                  3.1.1\n",
      "flatbuffers                       24.3.25\n",
      "fonttools                         4.51.0\n",
      "frozendict                        2.4.2\n",
      "frozenlist                        1.4.0\n",
      "fsspec                            2024.3.1\n",
      "gast                              0.6.0\n",
      "gensim                            4.3.2\n",
      "gitdb                             4.0.7\n",
      "GitPython                         3.1.37\n",
      "google-pasta                      0.2.0\n",
      "gradio                            4.44.0\n",
      "gradio_client                     1.3.0\n",
      "greenlet                          3.0.1\n",
      "grpcio                            1.66.1\n",
      "h11                               0.14.0\n",
      "h5py                              3.11.0\n",
      "HeapDict                          1.0.1\n",
      "holoviews                         1.19.0\n",
      "httpcore                          1.0.5\n",
      "httpx                             0.27.2\n",
      "huggingface-hub                   0.25.0\n",
      "hvplot                            0.10.0\n",
      "hyperlink                         21.0.0\n",
      "idna                              3.7\n",
      "imagecodecs                       2023.1.23\n",
      "imageio                           2.33.1\n",
      "imagesize                         1.4.1\n",
      "imbalanced-learn                  0.12.3\n",
      "importlib-metadata                7.0.1\n",
      "importlib_resources               6.4.5\n",
      "incremental                       22.10.0\n",
      "inflection                        0.5.1\n",
      "iniconfig                         1.1.1\n",
      "intake                            0.7.0\n",
      "intervaltree                      3.1.0\n",
      "ipykernel                         6.29.5\n",
      "ipython                           8.27.0\n",
      "ipython-genutils                  0.2.0\n",
      "ipywidgets                        7.8.1\n",
      "isort                             5.13.2\n",
      "itemadapter                       0.3.0\n",
      "itemloaders                       1.1.0\n",
      "itsdangerous                      2.2.0\n",
      "jaraco.classes                    3.2.1\n",
      "jedi                              0.19.1\n",
      "jellyfish                         1.0.1\n",
      "Jinja2                            3.1.4\n",
      "jmespath                          1.0.1\n",
      "joblib                            1.4.2\n",
      "json5                             0.9.6\n",
      "jsonpatch                         1.33\n",
      "jsonpointer                       2.1\n",
      "jsonschema                        4.19.2\n",
      "jsonschema-specifications         2023.7.1\n",
      "jupyter                           1.0.0\n",
      "jupyter_client                    8.6.2\n",
      "jupyter-console                   6.6.3\n",
      "jupyter_core                      5.7.2\n",
      "jupyter-events                    0.10.0\n",
      "jupyter-lsp                       2.2.0\n",
      "jupyter_server                    2.14.1\n",
      "jupyter_server_terminals          0.4.4\n",
      "jupyterlab                        4.0.11\n",
      "jupyterlab-pygments               0.1.2\n",
      "jupyterlab_server                 2.25.1\n",
      "jupyterlab-widgets                1.0.0\n",
      "keras                             3.5.0\n",
      "keyring                           24.3.1\n",
      "kiwisolver                        1.4.4\n",
      "lazy_loader                       0.4\n",
      "lazy-object-proxy                 1.10.0\n",
      "lckr_jupyterlab_variableinspector 3.1.0\n",
      "libarchive-c                      2.9\n",
      "libclang                          18.1.1\n",
      "libmambapy                        1.5.8\n",
      "linkify-it-py                     2.0.0\n",
      "llvmlite                          0.42.0\n",
      "lmdb                              1.4.1\n",
      "locket                            1.0.0\n",
      "lxml                              5.2.1\n",
      "lz4                               4.3.2\n",
      "Markdown                          3.4.1\n",
      "markdown-it-py                    2.2.0\n",
      "MarkupSafe                        2.1.3\n",
      "matplotlib                        3.8.4\n",
      "matplotlib-inline                 0.1.7\n",
      "mccabe                            0.7.0\n",
      "mdit-py-plugins                   0.3.0\n",
      "mdurl                             0.1.0\n",
      "menuinst                          2.1.1\n",
      "mistune                           2.0.4\n",
      "mkl-fft                           1.3.8\n",
      "mkl-random                        1.2.4\n",
      "mkl-service                       2.4.0\n",
      "ml-dtypes                         0.4.1\n",
      "more-itertools                    10.1.0\n",
      "mpmath                            1.3.0\n",
      "msgpack                           1.0.3\n",
      "multidict                         6.0.4\n",
      "multipledispatch                  0.6.0\n",
      "mypy                              1.10.0\n",
      "mypy-extensions                   1.0.0\n",
      "mysqlclient                       2.2.4\n",
      "namex                             0.0.8\n",
      "navigator-updater                 0.5.1\n",
      "nbclient                          0.8.0\n",
      "nbconvert                         7.10.0\n",
      "nbformat                          5.9.2\n",
      "nest-asyncio                      1.6.0\n",
      "networkx                          3.2.1\n",
      "nltk                              3.8.1\n",
      "notebook                          7.0.8\n",
      "notebook_shim                     0.2.3\n",
      "numba                             0.59.1\n",
      "numexpr                           2.8.7\n",
      "numpy                             1.26.4\n",
      "numpydoc                          1.7.0\n",
      "openpyxl                          3.1.2\n",
      "opt-einsum                        3.3.0\n",
      "optree                            0.12.1\n",
      "orjson                            3.10.7\n",
      "overrides                         7.4.0\n",
      "packaging                         24.1\n",
      "pandas                            2.2.2\n",
      "pandocfilters                     1.5.0\n",
      "panel                             1.4.4\n",
      "param                             2.1.0\n",
      "paramiko                          2.8.1\n",
      "parsel                            1.8.1\n",
      "parso                             0.8.4\n",
      "partd                             1.4.1\n",
      "pathspec                          0.10.3\n",
      "patsy                             0.5.6\n",
      "pexpect                           4.8.0\n",
      "pickleshare                       0.7.5\n",
      "pillow                            10.3.0\n",
      "pip                               24.0\n",
      "pkce                              1.0.3\n",
      "pkginfo                           1.10.0\n",
      "platformdirs                      4.2.2\n",
      "plotly                            5.22.0\n",
      "pluggy                            1.0.0\n",
      "ply                               3.11\n",
      "prometheus-client                 0.14.1\n",
      "prompt_toolkit                    3.0.47\n",
      "Protego                           0.1.16\n",
      "protobuf                          3.20.3\n",
      "psutil                            6.0.0\n",
      "ptyprocess                        0.7.0\n",
      "pure_eval                         0.2.3\n",
      "py-cpuinfo                        9.0.0\n",
      "pyarrow                           14.0.2\n",
      "pyasn1                            0.4.8\n",
      "pyasn1-modules                    0.2.8\n",
      "pycodestyle                       2.11.1\n",
      "pycosat                           0.6.6\n",
      "pycparser                         2.21\n",
      "pyct                              0.5.0\n",
      "pycurl                            7.45.2\n",
      "pydantic                          2.5.3\n",
      "pydantic_core                     2.14.6\n",
      "pydeck                            0.8.0\n",
      "PyDispatcher                      2.0.5\n",
      "pydocstyle                        6.3.0\n",
      "pydub                             0.25.1\n",
      "pyerfa                            2.0.1.4\n",
      "pyflakes                          3.2.0\n",
      "Pygments                          2.18.0\n",
      "PyJWT                             2.8.0\n",
      "pylint                            2.16.2\n",
      "pylint-venv                       3.0.3\n",
      "pyls-spyder                       0.4.0\n",
      "PyNaCl                            1.5.0\n",
      "pyodbc                            5.0.1\n",
      "pyOpenSSL                         24.0.0\n",
      "pyparsing                         3.0.9\n",
      "PyQt5                             5.15.10\n",
      "PyQt5-sip                         12.13.0\n",
      "PyQtWebEngine                     5.15.6\n",
      "PySocks                           1.7.1\n",
      "pytest                            7.4.4\n",
      "python-dateutil                   2.9.0.post0\n",
      "python-dotenv                     0.21.0\n",
      "python-json-logger                2.0.7\n",
      "python-lsp-black                  2.0.0\n",
      "python-lsp-jsonrpc                1.1.2\n",
      "python-lsp-server                 1.10.0\n",
      "python-multipart                  0.0.9\n",
      "python-slugify                    5.0.2\n",
      "python-snappy                     0.6.1\n",
      "pytoolconfig                      1.2.6\n",
      "pytz                              2024.1\n",
      "pyviz_comms                       3.0.2\n",
      "pywavelets                        1.5.0\n",
      "pywin32                           306\n",
      "pywin32-ctypes                    0.2.2\n",
      "pywinpty                          2.0.10\n",
      "PyYAML                            6.0.1\n",
      "pyzmq                             26.2.0\n",
      "QDarkStyle                        3.2.3\n",
      "qstylizer                         0.2.2\n",
      "QtAwesome                         1.2.2\n",
      "qtconsole                         5.5.1\n",
      "QtPy                              2.4.1\n",
      "queuelib                          1.6.2\n",
      "referencing                       0.30.2\n",
      "regex                             2023.10.3\n",
      "requests                          2.32.2\n",
      "requests-file                     1.5.1\n",
      "requests-toolbelt                 1.0.0\n",
      "rfc3339-validator                 0.1.4\n",
      "rfc3986-validator                 0.1.1\n",
      "rich                              13.3.5\n",
      "rope                              1.12.0\n",
      "rpds-py                           0.10.6\n",
      "Rtree                             1.0.1\n",
      "ruamel.yaml                       0.17.21\n",
      "ruamel-yaml-conda                 0.17.21\n",
      "ruff                              0.6.5\n",
      "s3fs                              2024.3.1\n",
      "scikit-image                      0.23.2\n",
      "scikit-learn                      1.4.2\n",
      "scipy                             1.13.1\n",
      "Scrapy                            2.11.1\n",
      "seaborn                           0.13.2\n",
      "semantic-version                  2.10.0\n",
      "semver                            3.0.2\n",
      "Send2Trash                        1.8.2\n",
      "service-identity                  18.1.0\n",
      "setuptools                        69.5.1\n",
      "shellingham                       1.5.4\n",
      "sip                               6.7.12\n",
      "six                               1.16.0\n",
      "smart-open                        5.2.1\n",
      "smmap                             4.0.0\n",
      "sniffio                           1.3.0\n",
      "snowballstemmer                   2.2.0\n",
      "sortedcontainers                  2.4.0\n",
      "soupsieve                         2.5\n",
      "Sphinx                            7.3.7\n",
      "sphinxcontrib-applehelp           1.0.2\n",
      "sphinxcontrib-devhelp             1.0.2\n",
      "sphinxcontrib-htmlhelp            2.0.0\n",
      "sphinxcontrib-jsmath              1.0.1\n",
      "sphinxcontrib-qthelp              1.0.3\n",
      "sphinxcontrib-serializinghtml     1.1.10\n",
      "spyder                            5.5.1\n",
      "spyder-kernels                    2.5.0\n",
      "SQLAlchemy                        2.0.30\n",
      "sqlparse                          0.5.1\n",
      "stack-data                        0.6.3\n",
      "starlette                         0.38.5\n",
      "statsmodels                       0.14.2\n",
      "streamlit                         1.32.0\n",
      "sympy                             1.12\n",
      "tables                            3.9.2\n",
      "tabulate                          0.9.0\n",
      "tblib                             1.7.0\n",
      "tenacity                          8.2.2\n",
      "tensorboard                       2.17.1\n",
      "tensorboard-data-server           0.7.2\n",
      "tensorflow                        2.17.0\n",
      "tensorflow-intel                  2.17.0\n",
      "termcolor                         2.4.0\n",
      "terminado                         0.17.1\n",
      "text-unidecode                    1.3\n",
      "textdistance                      4.2.1\n",
      "threadpoolctl                     2.2.0\n",
      "three-merge                       0.1.1\n",
      "tifffile                          2023.4.12\n",
      "tinycss2                          1.2.1\n",
      "tldextract                        3.2.0\n",
      "toml                              0.10.2\n",
      "tomli                             2.0.1\n",
      "tomlkit                           0.12.0\n",
      "toolz                             0.12.0\n",
      "tornado                           6.4.1\n",
      "tqdm                              4.66.4\n",
      "traitlets                         5.14.3\n",
      "truststore                        0.8.0\n",
      "Twisted                           23.10.0\n",
      "twisted-iocpsupport               1.0.2\n",
      "typer                             0.12.5\n",
      "typing_extensions                 4.11.0\n",
      "tzdata                            2023.3\n",
      "uc-micro-py                       1.0.1\n",
      "ujson                             5.10.0\n",
      "unicodedata2                      15.1.0\n",
      "Unidecode                         1.2.0\n",
      "urllib3                           2.2.2\n",
      "uvicorn                           0.30.6\n",
      "w3lib                             2.1.2\n",
      "watchdog                          4.0.1\n",
      "wcwidth                           0.2.13\n",
      "webencodings                      0.5.1\n",
      "websocket-client                  1.8.0\n",
      "websockets                        12.0\n",
      "Werkzeug                          3.0.3\n",
      "whatthepatch                      1.0.2\n",
      "wheel                             0.43.0\n",
      "widgetsnbextension                3.6.6\n",
      "win-inet-pton                     1.1.0\n",
      "wrapt                             1.14.1\n",
      "xarray                            2023.6.0\n",
      "xlwings                           0.31.4\n",
      "xyzservices                       2022.9.0\n",
      "yapf                              0.40.2\n",
      "yarl                              1.9.3\n",
      "zict                              3.0.0\n",
      "zipp                              3.17.0\n",
      "zope.interface                    5.4.0\n",
      "zstandard                         0.22.0\n"
     ]
    }
   ],
   "source": [
    "!pip list"
   ]
  },
  {
   "cell_type": "code",
   "execution_count": 2,
   "metadata": {
    "ExecuteTime": {
     "end_time": "2024-09-19T17:35:34.630047Z",
     "start_time": "2024-09-19T17:35:26.800912Z"
    },
    "tags": []
   },
   "outputs": [],
   "source": [
    "import os\n",
    "import pandas as pd\n",
    "import tensorflow as tf\n",
    "import numpy as np"
   ]
  },
  {
   "cell_type": "code",
   "execution_count": 3,
   "metadata": {
    "ExecuteTime": {
     "end_time": "2024-09-19T17:35:35.906475Z",
     "start_time": "2024-09-19T17:35:34.832148Z"
    },
    "tags": []
   },
   "outputs": [],
   "source": [
    "df = pd.read_csv(os.path.join('jigsaw-toxic-comment-classification-challenge','train.csv', 'train.csv'))"
   ]
  },
  {
   "cell_type": "code",
   "execution_count": 4,
   "metadata": {
    "ExecuteTime": {
     "end_time": "2024-09-19T17:35:35.953533Z",
     "start_time": "2024-09-19T17:35:35.936243Z"
    },
    "tags": []
   },
   "outputs": [
    {
     "data": {
      "text/html": [
       "<div>\n",
       "<style scoped>\n",
       "    .dataframe tbody tr th:only-of-type {\n",
       "        vertical-align: middle;\n",
       "    }\n",
       "\n",
       "    .dataframe tbody tr th {\n",
       "        vertical-align: top;\n",
       "    }\n",
       "\n",
       "    .dataframe thead th {\n",
       "        text-align: right;\n",
       "    }\n",
       "</style>\n",
       "<table border=\"1\" class=\"dataframe\">\n",
       "  <thead>\n",
       "    <tr style=\"text-align: right;\">\n",
       "      <th></th>\n",
       "      <th>id</th>\n",
       "      <th>comment_text</th>\n",
       "      <th>toxic</th>\n",
       "      <th>severe_toxic</th>\n",
       "      <th>obscene</th>\n",
       "      <th>threat</th>\n",
       "      <th>insult</th>\n",
       "      <th>identity_hate</th>\n",
       "    </tr>\n",
       "  </thead>\n",
       "  <tbody>\n",
       "    <tr>\n",
       "      <th>0</th>\n",
       "      <td>0000997932d777bf</td>\n",
       "      <td>Explanation\\r\\nWhy the edits made under my use...</td>\n",
       "      <td>0</td>\n",
       "      <td>0</td>\n",
       "      <td>0</td>\n",
       "      <td>0</td>\n",
       "      <td>0</td>\n",
       "      <td>0</td>\n",
       "    </tr>\n",
       "    <tr>\n",
       "      <th>1</th>\n",
       "      <td>000103f0d9cfb60f</td>\n",
       "      <td>D'aww! He matches this background colour I'm s...</td>\n",
       "      <td>0</td>\n",
       "      <td>0</td>\n",
       "      <td>0</td>\n",
       "      <td>0</td>\n",
       "      <td>0</td>\n",
       "      <td>0</td>\n",
       "    </tr>\n",
       "    <tr>\n",
       "      <th>2</th>\n",
       "      <td>000113f07ec002fd</td>\n",
       "      <td>Hey man, I'm really not trying to edit war. It...</td>\n",
       "      <td>0</td>\n",
       "      <td>0</td>\n",
       "      <td>0</td>\n",
       "      <td>0</td>\n",
       "      <td>0</td>\n",
       "      <td>0</td>\n",
       "    </tr>\n",
       "    <tr>\n",
       "      <th>3</th>\n",
       "      <td>0001b41b1c6bb37e</td>\n",
       "      <td>\"\\r\\nMore\\r\\nI can't make any real suggestions...</td>\n",
       "      <td>0</td>\n",
       "      <td>0</td>\n",
       "      <td>0</td>\n",
       "      <td>0</td>\n",
       "      <td>0</td>\n",
       "      <td>0</td>\n",
       "    </tr>\n",
       "    <tr>\n",
       "      <th>4</th>\n",
       "      <td>0001d958c54c6e35</td>\n",
       "      <td>You, sir, are my hero. Any chance you remember...</td>\n",
       "      <td>0</td>\n",
       "      <td>0</td>\n",
       "      <td>0</td>\n",
       "      <td>0</td>\n",
       "      <td>0</td>\n",
       "      <td>0</td>\n",
       "    </tr>\n",
       "  </tbody>\n",
       "</table>\n",
       "</div>"
      ],
      "text/plain": [
       "                 id                                       comment_text  toxic  \\\n",
       "0  0000997932d777bf  Explanation\\r\\nWhy the edits made under my use...      0   \n",
       "1  000103f0d9cfb60f  D'aww! He matches this background colour I'm s...      0   \n",
       "2  000113f07ec002fd  Hey man, I'm really not trying to edit war. It...      0   \n",
       "3  0001b41b1c6bb37e  \"\\r\\nMore\\r\\nI can't make any real suggestions...      0   \n",
       "4  0001d958c54c6e35  You, sir, are my hero. Any chance you remember...      0   \n",
       "\n",
       "   severe_toxic  obscene  threat  insult  identity_hate  \n",
       "0             0        0       0       0              0  \n",
       "1             0        0       0       0              0  \n",
       "2             0        0       0       0              0  \n",
       "3             0        0       0       0              0  \n",
       "4             0        0       0       0              0  "
      ]
     },
     "execution_count": 4,
     "metadata": {},
     "output_type": "execute_result"
    }
   ],
   "source": [
    "df.head()"
   ]
  },
  {
   "cell_type": "markdown",
   "metadata": {},
   "source": [
    "# 1. Preprocess"
   ]
  },
  {
   "cell_type": "code",
   "execution_count": 5,
   "metadata": {
    "ExecuteTime": {
     "end_time": "2024-09-19T17:35:38.690269Z",
     "start_time": "2024-09-19T17:35:36.026154Z"
    },
    "tags": []
   },
   "outputs": [
    {
     "name": "stdout",
     "output_type": "stream",
     "text": [
      "Package                           Version\n",
      "--------------------------------- ------------------\n",
      "absl-py                           2.1.0\n",
      "aiobotocore                       2.12.3\n",
      "aiofiles                          23.2.1\n",
      "aiohttp                           3.9.5\n",
      "aioitertools                      0.7.1\n",
      "aiosignal                         1.2.0\n",
      "alabaster                         0.7.16\n",
      "altair                            5.0.1\n",
      "anaconda-anon-usage               0.4.4\n",
      "anaconda-catalogs                 0.2.0\n",
      "anaconda-client                   1.12.3\n",
      "anaconda-cloud-auth               0.5.1\n",
      "anaconda-navigator                2.6.0\n",
      "anaconda-project                  0.11.1\n",
      "annotated-types                   0.6.0\n",
      "anyio                             4.2.0\n",
      "app                               0.0.1\n",
      "appdirs                           1.4.4\n",
      "archspec                          0.2.3\n",
      "argon2-cffi                       21.3.0\n",
      "argon2-cffi-bindings              21.2.0\n",
      "arrow                             1.2.3\n",
      "asgiref                           3.8.1\n",
      "astroid                           2.14.2\n",
      "astropy                           6.1.0\n",
      "astropy-iers-data                 0.2024.6.3.0.31.14\n",
      "asttokens                         2.4.1\n",
      "astunparse                        1.6.3\n",
      "async-lru                         2.0.4\n",
      "atomicwrites                      1.4.0\n",
      "attrs                             23.1.0\n",
      "Automat                           20.2.0\n",
      "autopep8                          2.0.4\n",
      "Babel                             2.11.0\n",
      "bcrypt                            3.2.0\n",
      "beautifulsoup4                    4.12.3\n",
      "binaryornot                       0.4.4\n",
      "black                             24.4.2\n",
      "bleach                            4.1.0\n",
      "blinker                           1.6.2\n",
      "bokeh                             3.4.1\n",
      "boltons                           23.0.0\n",
      "botocore                          1.34.69\n",
      "Bottleneck                        1.3.7\n",
      "Brotli                            1.0.9\n",
      "cachetools                        5.3.3\n",
      "certifi                           2024.6.2\n",
      "cffi                              1.16.0\n",
      "chardet                           4.0.0\n",
      "charset-normalizer                2.0.4\n",
      "click                             8.1.7\n",
      "cloudpickle                       2.2.1\n",
      "colorama                          0.4.6\n",
      "colorcet                          3.1.0\n",
      "comm                              0.2.2\n",
      "conda                             24.5.0\n",
      "conda-build                       24.5.1\n",
      "conda-content-trust               0.2.0\n",
      "conda_index                       0.5.0\n",
      "conda-libmamba-solver             24.1.0\n",
      "conda-pack                        0.7.1\n",
      "conda-package-handling            2.3.0\n",
      "conda_package_streaming           0.10.0\n",
      "conda-repo-cli                    1.0.88\n",
      "conda-token                       0.5.0+1.g2209e04\n",
      "constantly                        23.10.4\n",
      "contourpy                         1.2.0\n",
      "cookiecutter                      2.6.0\n",
      "cryptography                      42.0.5\n",
      "cssselect                         1.2.0\n",
      "cycler                            0.11.0\n",
      "cytoolz                           0.12.2\n",
      "dask                              2024.5.0\n",
      "dask-expr                         1.1.0\n",
      "datashader                        0.16.2\n",
      "debugpy                           1.8.5\n",
      "decorator                         5.1.1\n",
      "defusedxml                        0.7.1\n",
      "diff-match-patch                  20200713\n",
      "dill                              0.3.8\n",
      "distributed                       2024.5.0\n",
      "distro                            1.9.0\n",
      "docstring-to-markdown             0.11\n",
      "docutils                          0.18.1\n",
      "entrypoints                       0.4\n",
      "et-xmlfile                        1.1.0\n",
      "executing                         2.0.1\n",
      "fastapi                           0.114.2\n",
      "fastjsonschema                    2.16.2\n",
      "ffmpy                             0.4.0\n",
      "filelock                          3.13.1\n",
      "flake8                            7.0.0\n",
      "Flask                             3.0.3\n",
      "Flask-SQLAlchemy                  3.1.1\n",
      "flatbuffers                       24.3.25\n",
      "fonttools                         4.51.0\n",
      "frozendict                        2.4.2\n",
      "frozenlist                        1.4.0\n",
      "fsspec                            2024.3.1\n",
      "gast                              0.6.0\n",
      "gensim                            4.3.2\n",
      "gitdb                             4.0.7\n",
      "GitPython                         3.1.37\n",
      "google-pasta                      0.2.0\n",
      "gradio                            4.44.0\n",
      "gradio_client                     1.3.0\n",
      "greenlet                          3.0.1\n",
      "grpcio                            1.66.1\n",
      "h11                               0.14.0\n",
      "h5py                              3.11.0\n",
      "HeapDict                          1.0.1\n",
      "holoviews                         1.19.0\n",
      "httpcore                          1.0.5\n",
      "httpx                             0.27.2\n",
      "huggingface-hub                   0.25.0\n",
      "hvplot                            0.10.0\n",
      "hyperlink                         21.0.0\n",
      "idna                              3.7\n",
      "imagecodecs                       2023.1.23\n",
      "imageio                           2.33.1\n",
      "imagesize                         1.4.1\n",
      "imbalanced-learn                  0.12.3\n",
      "importlib-metadata                7.0.1\n",
      "importlib_resources               6.4.5\n",
      "incremental                       22.10.0\n",
      "inflection                        0.5.1\n",
      "iniconfig                         1.1.1\n",
      "intake                            0.7.0\n",
      "intervaltree                      3.1.0\n",
      "ipykernel                         6.29.5\n",
      "ipython                           8.27.0\n",
      "ipython-genutils                  0.2.0\n",
      "ipywidgets                        7.8.1\n",
      "isort                             5.13.2\n",
      "itemadapter                       0.3.0\n",
      "itemloaders                       1.1.0\n",
      "itsdangerous                      2.2.0\n",
      "jaraco.classes                    3.2.1\n",
      "jedi                              0.19.1\n",
      "jellyfish                         1.0.1\n",
      "Jinja2                            3.1.4\n",
      "jmespath                          1.0.1\n",
      "joblib                            1.4.2\n",
      "json5                             0.9.6\n",
      "jsonpatch                         1.33\n",
      "jsonpointer                       2.1\n",
      "jsonschema                        4.19.2\n",
      "jsonschema-specifications         2023.7.1\n",
      "jupyter                           1.0.0\n",
      "jupyter_client                    8.6.2\n",
      "jupyter-console                   6.6.3\n",
      "jupyter_core                      5.7.2\n",
      "jupyter-events                    0.10.0\n",
      "jupyter-lsp                       2.2.0\n",
      "jupyter_server                    2.14.1\n",
      "jupyter_server_terminals          0.4.4\n",
      "jupyterlab                        4.0.11\n",
      "jupyterlab-pygments               0.1.2\n",
      "jupyterlab_server                 2.25.1\n",
      "jupyterlab-widgets                1.0.0\n",
      "keras                             3.5.0\n",
      "keyring                           24.3.1\n",
      "kiwisolver                        1.4.4\n",
      "lazy_loader                       0.4\n",
      "lazy-object-proxy                 1.10.0\n",
      "lckr_jupyterlab_variableinspector 3.1.0\n",
      "libarchive-c                      2.9\n",
      "libclang                          18.1.1\n",
      "libmambapy                        1.5.8\n",
      "linkify-it-py                     2.0.0\n",
      "llvmlite                          0.42.0\n",
      "lmdb                              1.4.1\n",
      "locket                            1.0.0\n",
      "lxml                              5.2.1\n",
      "lz4                               4.3.2\n",
      "Markdown                          3.4.1\n",
      "markdown-it-py                    2.2.0\n",
      "MarkupSafe                        2.1.3\n",
      "matplotlib                        3.8.4\n",
      "matplotlib-inline                 0.1.7\n",
      "mccabe                            0.7.0\n",
      "mdit-py-plugins                   0.3.0\n",
      "mdurl                             0.1.0\n",
      "menuinst                          2.1.1\n",
      "mistune                           2.0.4\n",
      "mkl-fft                           1.3.8\n",
      "mkl-random                        1.2.4\n",
      "mkl-service                       2.4.0\n",
      "ml-dtypes                         0.4.1\n",
      "more-itertools                    10.1.0\n",
      "mpmath                            1.3.0\n",
      "msgpack                           1.0.3\n",
      "multidict                         6.0.4\n",
      "multipledispatch                  0.6.0\n",
      "mypy                              1.10.0\n",
      "mypy-extensions                   1.0.0\n",
      "mysqlclient                       2.2.4\n",
      "namex                             0.0.8\n",
      "navigator-updater                 0.5.1\n",
      "nbclient                          0.8.0\n",
      "nbconvert                         7.10.0\n",
      "nbformat                          5.9.2\n",
      "nest-asyncio                      1.6.0\n",
      "networkx                          3.2.1\n",
      "nltk                              3.8.1\n",
      "notebook                          7.0.8\n",
      "notebook_shim                     0.2.3\n",
      "numba                             0.59.1\n",
      "numexpr                           2.8.7\n",
      "numpy                             1.26.4\n",
      "numpydoc                          1.7.0\n",
      "openpyxl                          3.1.2\n",
      "opt-einsum                        3.3.0\n",
      "optree                            0.12.1\n",
      "orjson                            3.10.7\n",
      "overrides                         7.4.0\n",
      "packaging                         24.1\n",
      "pandas                            2.2.2\n",
      "pandocfilters                     1.5.0\n",
      "panel                             1.4.4\n",
      "param                             2.1.0\n",
      "paramiko                          2.8.1\n",
      "parsel                            1.8.1\n",
      "parso                             0.8.4\n",
      "partd                             1.4.1\n",
      "pathspec                          0.10.3\n",
      "patsy                             0.5.6\n",
      "pexpect                           4.8.0\n",
      "pickleshare                       0.7.5\n",
      "pillow                            10.3.0\n",
      "pip                               24.0\n",
      "pkce                              1.0.3\n",
      "pkginfo                           1.10.0\n",
      "platformdirs                      4.2.2\n",
      "plotly                            5.22.0\n",
      "pluggy                            1.0.0\n",
      "ply                               3.11\n",
      "prometheus-client                 0.14.1\n",
      "prompt_toolkit                    3.0.47\n",
      "Protego                           0.1.16\n",
      "protobuf                          3.20.3\n",
      "psutil                            6.0.0\n",
      "ptyprocess                        0.7.0\n",
      "pure_eval                         0.2.3\n",
      "py-cpuinfo                        9.0.0\n",
      "pyarrow                           14.0.2\n",
      "pyasn1                            0.4.8\n",
      "pyasn1-modules                    0.2.8\n",
      "pycodestyle                       2.11.1\n",
      "pycosat                           0.6.6\n",
      "pycparser                         2.21\n",
      "pyct                              0.5.0\n",
      "pycurl                            7.45.2\n",
      "pydantic                          2.5.3\n",
      "pydantic_core                     2.14.6\n",
      "pydeck                            0.8.0\n",
      "PyDispatcher                      2.0.5\n",
      "pydocstyle                        6.3.0\n",
      "pydub                             0.25.1\n",
      "pyerfa                            2.0.1.4\n",
      "pyflakes                          3.2.0\n",
      "Pygments                          2.18.0\n",
      "PyJWT                             2.8.0\n",
      "pylint                            2.16.2\n",
      "pylint-venv                       3.0.3\n",
      "pyls-spyder                       0.4.0\n",
      "PyNaCl                            1.5.0\n",
      "pyodbc                            5.0.1\n",
      "pyOpenSSL                         24.0.0\n",
      "pyparsing                         3.0.9\n",
      "PyQt5                             5.15.10\n",
      "PyQt5-sip                         12.13.0\n",
      "PyQtWebEngine                     5.15.6\n",
      "PySocks                           1.7.1\n",
      "pytest                            7.4.4\n",
      "python-dateutil                   2.9.0.post0\n",
      "python-dotenv                     0.21.0\n",
      "python-json-logger                2.0.7\n",
      "python-lsp-black                  2.0.0\n",
      "python-lsp-jsonrpc                1.1.2\n",
      "python-lsp-server                 1.10.0\n",
      "python-multipart                  0.0.9\n",
      "python-slugify                    5.0.2\n",
      "python-snappy                     0.6.1\n",
      "pytoolconfig                      1.2.6\n",
      "pytz                              2024.1\n",
      "pyviz_comms                       3.0.2\n",
      "pywavelets                        1.5.0\n",
      "pywin32                           306\n",
      "pywin32-ctypes                    0.2.2\n",
      "pywinpty                          2.0.10\n",
      "PyYAML                            6.0.1\n",
      "pyzmq                             26.2.0\n",
      "QDarkStyle                        3.2.3\n",
      "qstylizer                         0.2.2\n",
      "QtAwesome                         1.2.2\n",
      "qtconsole                         5.5.1\n",
      "QtPy                              2.4.1\n",
      "queuelib                          1.6.2\n",
      "referencing                       0.30.2\n",
      "regex                             2023.10.3\n",
      "requests                          2.32.2\n",
      "requests-file                     1.5.1\n",
      "requests-toolbelt                 1.0.0\n",
      "rfc3339-validator                 0.1.4\n",
      "rfc3986-validator                 0.1.1\n",
      "rich                              13.3.5\n",
      "rope                              1.12.0\n",
      "rpds-py                           0.10.6\n",
      "Rtree                             1.0.1\n",
      "ruamel.yaml                       0.17.21\n",
      "ruamel-yaml-conda                 0.17.21\n",
      "ruff                              0.6.5\n",
      "s3fs                              2024.3.1\n",
      "scikit-image                      0.23.2\n",
      "scikit-learn                      1.4.2\n",
      "scipy                             1.13.1\n",
      "Scrapy                            2.11.1\n",
      "seaborn                           0.13.2\n",
      "semantic-version                  2.10.0\n",
      "semver                            3.0.2\n",
      "Send2Trash                        1.8.2\n",
      "service-identity                  18.1.0\n",
      "setuptools                        69.5.1\n",
      "shellingham                       1.5.4\n",
      "sip                               6.7.12\n",
      "six                               1.16.0\n",
      "smart-open                        5.2.1\n",
      "smmap                             4.0.0\n",
      "sniffio                           1.3.0\n",
      "snowballstemmer                   2.2.0\n",
      "sortedcontainers                  2.4.0\n",
      "soupsieve                         2.5\n",
      "Sphinx                            7.3.7\n",
      "sphinxcontrib-applehelp           1.0.2\n",
      "sphinxcontrib-devhelp             1.0.2\n",
      "sphinxcontrib-htmlhelp            2.0.0\n",
      "sphinxcontrib-jsmath              1.0.1\n",
      "sphinxcontrib-qthelp              1.0.3\n",
      "sphinxcontrib-serializinghtml     1.1.10\n",
      "spyder                            5.5.1\n",
      "spyder-kernels                    2.5.0\n",
      "SQLAlchemy                        2.0.30\n",
      "sqlparse                          0.5.1\n",
      "stack-data                        0.6.3\n",
      "starlette                         0.38.5\n",
      "statsmodels                       0.14.2\n",
      "streamlit                         1.32.0\n",
      "sympy                             1.12\n",
      "tables                            3.9.2\n",
      "tabulate                          0.9.0\n",
      "tblib                             1.7.0\n",
      "tenacity                          8.2.2\n",
      "tensorboard                       2.17.1\n",
      "tensorboard-data-server           0.7.2\n",
      "tensorflow                        2.17.0\n",
      "tensorflow-intel                  2.17.0\n",
      "termcolor                         2.4.0\n",
      "terminado                         0.17.1\n",
      "text-unidecode                    1.3\n",
      "textdistance                      4.2.1\n",
      "threadpoolctl                     2.2.0\n",
      "three-merge                       0.1.1\n",
      "tifffile                          2023.4.12\n",
      "tinycss2                          1.2.1\n",
      "tldextract                        3.2.0\n",
      "toml                              0.10.2\n",
      "tomli                             2.0.1\n",
      "tomlkit                           0.12.0\n",
      "toolz                             0.12.0\n",
      "tornado                           6.4.1\n",
      "tqdm                              4.66.4\n",
      "traitlets                         5.14.3\n",
      "truststore                        0.8.0\n",
      "Twisted                           23.10.0\n",
      "twisted-iocpsupport               1.0.2\n",
      "typer                             0.12.5\n",
      "typing_extensions                 4.11.0\n",
      "tzdata                            2023.3\n",
      "uc-micro-py                       1.0.1\n",
      "ujson                             5.10.0\n",
      "unicodedata2                      15.1.0\n",
      "Unidecode                         1.2.0\n",
      "urllib3                           2.2.2\n",
      "uvicorn                           0.30.6\n",
      "w3lib                             2.1.2\n",
      "watchdog                          4.0.1\n",
      "wcwidth                           0.2.13\n",
      "webencodings                      0.5.1\n",
      "websocket-client                  1.8.0\n",
      "websockets                        12.0\n",
      "Werkzeug                          3.0.3\n",
      "whatthepatch                      1.0.2\n",
      "wheel                             0.43.0\n",
      "widgetsnbextension                3.6.6\n",
      "win-inet-pton                     1.1.0\n",
      "wrapt                             1.14.1\n",
      "xarray                            2023.6.0\n",
      "xlwings                           0.31.4\n",
      "xyzservices                       2022.9.0\n",
      "yapf                              0.40.2\n",
      "yarl                              1.9.3\n",
      "zict                              3.0.0\n",
      "zipp                              3.17.0\n",
      "zope.interface                    5.4.0\n",
      "zstandard                         0.22.0\n"
     ]
    }
   ],
   "source": [
    "!pip list"
   ]
  },
  {
   "cell_type": "code",
   "execution_count": 6,
   "metadata": {
    "ExecuteTime": {
     "end_time": "2024-09-19T17:35:38.792033Z",
     "start_time": "2024-09-19T17:35:38.748010Z"
    },
    "tags": []
   },
   "outputs": [],
   "source": [
    "from tensorflow.keras.layers import TextVectorization"
   ]
  },
  {
   "cell_type": "code",
   "execution_count": 7,
   "metadata": {
    "ExecuteTime": {
     "end_time": "2024-09-19T17:35:38.834198Z",
     "start_time": "2024-09-19T17:35:38.824044Z"
    },
    "tags": []
   },
   "outputs": [],
   "source": [
    "X = df['comment_text']\n",
    "y = df[df.columns[2:]].values"
   ]
  },
  {
   "cell_type": "code",
   "execution_count": 8,
   "metadata": {
    "ExecuteTime": {
     "end_time": "2024-09-19T17:35:38.862032Z",
     "start_time": "2024-09-19T17:35:38.858159Z"
    },
    "tags": []
   },
   "outputs": [],
   "source": [
    "MAX_FEATURES = 200000 # number of words in the vocab"
   ]
  },
  {
   "cell_type": "code",
   "execution_count": 9,
   "metadata": {
    "ExecuteTime": {
     "end_time": "2024-09-19T17:35:39.003173Z",
     "start_time": "2024-09-19T17:35:38.926715Z"
    },
    "tags": []
   },
   "outputs": [],
   "source": [
    "vectorizer = TextVectorization(max_tokens=MAX_FEATURES,\n",
    "                               output_sequence_length=1800,\n",
    "                               output_mode='int')"
   ]
  },
  {
   "cell_type": "code",
   "execution_count": 10,
   "metadata": {
    "ExecuteTime": {
     "end_time": "2024-09-19T17:35:44.001334Z",
     "start_time": "2024-09-19T17:35:39.016227Z"
    },
    "tags": []
   },
   "outputs": [],
   "source": [
    "vectorizer.adapt(X.values)"
   ]
  },
  {
   "cell_type": "code",
   "execution_count": 11,
   "metadata": {
    "ExecuteTime": {
     "end_time": "2024-09-19T17:35:50.269961Z",
     "start_time": "2024-09-19T17:35:44.021095Z"
    },
    "tags": []
   },
   "outputs": [],
   "source": [
    "vectorized_text = vectorizer(X.values)"
   ]
  },
  {
   "cell_type": "code",
   "execution_count": 12,
   "metadata": {
    "ExecuteTime": {
     "end_time": "2024-09-19T17:35:51.158391Z",
     "start_time": "2024-09-19T17:35:50.362549Z"
    },
    "tags": []
   },
   "outputs": [],
   "source": [
    "#MCSHBAP - map, chache, shuffle, batch, prefetch  from_tensor_slices, list_file\n",
    "dataset = tf.data.Dataset.from_tensor_slices((vectorized_text, y))\n",
    "dataset = dataset.cache()\n",
    "dataset = dataset.shuffle(160000)\n",
    "dataset = dataset.batch(16)\n",
    "dataset = dataset.prefetch(8) # helps bottlenecks"
   ]
  },
  {
   "cell_type": "code",
   "execution_count": 13,
   "metadata": {
    "ExecuteTime": {
     "end_time": "2024-09-19T17:35:51.257714Z",
     "start_time": "2024-09-19T17:35:51.198477Z"
    },
    "tags": []
   },
   "outputs": [],
   "source": [
    "train = dataset.take(int(len(dataset)*.7))\n",
    "val = dataset.skip(int(len(dataset)*.7)).take(int(len(dataset)*.2))\n",
    "test = dataset.skip(int(len(dataset)*.9)).take(int(len(dataset)*.1))"
   ]
  },
  {
   "cell_type": "markdown",
   "metadata": {},
   "source": [
    "# 2. Create Sequential Model"
   ]
  },
  {
   "cell_type": "code",
   "execution_count": 14,
   "metadata": {
    "ExecuteTime": {
     "end_time": "2024-09-19T17:35:51.353030Z",
     "start_time": "2024-09-19T17:35:51.276129Z"
    },
    "tags": []
   },
   "outputs": [],
   "source": [
    "from tensorflow.keras.models import Sequential\n",
    "from tensorflow.keras.layers import LSTM, Dropout, Bidirectional, Dense, Embedding"
   ]
  },
  {
   "cell_type": "code",
   "execution_count": 15,
   "metadata": {
    "ExecuteTime": {
     "end_time": "2024-09-19T17:35:51.823366Z",
     "start_time": "2024-09-19T17:35:51.367758Z"
    },
    "tags": []
   },
   "outputs": [],
   "source": [
    "model = Sequential()\n",
    "# Create the embedding layer \n",
    "model.add(Embedding(MAX_FEATURES+1, 32))\n",
    "# Bidirectional LSTM Layer\n",
    "model.add(Bidirectional(LSTM(32, activation='tanh')))\n",
    "# Feature extractor Fully connected layers\n",
    "model.add(Dense(128, activation='relu'))\n",
    "model.add(Dense(256, activation='relu'))\n",
    "model.add(Dense(128, activation='relu'))\n",
    "# Final layer \n",
    "model.add(Dense(6, activation='sigmoid'))"
   ]
  },
  {
   "cell_type": "code",
   "execution_count": 16,
   "metadata": {
    "ExecuteTime": {
     "end_time": "2024-09-19T17:35:51.940278Z",
     "start_time": "2024-09-19T17:35:51.850196Z"
    },
    "tags": []
   },
   "outputs": [],
   "source": [
    "model.compile(loss='BinaryCrossentropy', optimizer='Adam')"
   ]
  },
  {
   "cell_type": "code",
   "execution_count": 17,
   "metadata": {
    "ExecuteTime": {
     "end_time": "2024-09-19T17:35:52.088080Z",
     "start_time": "2024-09-19T17:35:51.966728Z"
    },
    "tags": []
   },
   "outputs": [
    {
     "data": {
      "text/html": [
       "<pre style=\"white-space:pre;overflow-x:auto;line-height:normal;font-family:Menlo,'DejaVu Sans Mono',consolas,'Courier New',monospace\"><span style=\"font-weight: bold\">Model: \"sequential\"</span>\n",
       "</pre>\n"
      ],
      "text/plain": [
       "\u001b[1mModel: \"sequential\"\u001b[0m\n"
      ]
     },
     "metadata": {},
     "output_type": "display_data"
    },
    {
     "data": {
      "text/html": [
       "<pre style=\"white-space:pre;overflow-x:auto;line-height:normal;font-family:Menlo,'DejaVu Sans Mono',consolas,'Courier New',monospace\">┏━━━━━━━━━━━━━━━━━━━━━━━━━━━━━━━━━━━━━━┳━━━━━━━━━━━━━━━━━━━━━━━━━━━━━┳━━━━━━━━━━━━━━━━━┓\n",
       "┃<span style=\"font-weight: bold\"> Layer (type)                         </span>┃<span style=\"font-weight: bold\"> Output Shape                </span>┃<span style=\"font-weight: bold\">         Param # </span>┃\n",
       "┡━━━━━━━━━━━━━━━━━━━━━━━━━━━━━━━━━━━━━━╇━━━━━━━━━━━━━━━━━━━━━━━━━━━━━╇━━━━━━━━━━━━━━━━━┩\n",
       "│ embedding (<span style=\"color: #0087ff; text-decoration-color: #0087ff\">Embedding</span>)                │ ?                           │     <span style=\"color: #00af00; text-decoration-color: #00af00\">0</span> (unbuilt) │\n",
       "├──────────────────────────────────────┼─────────────────────────────┼─────────────────┤\n",
       "│ bidirectional (<span style=\"color: #0087ff; text-decoration-color: #0087ff\">Bidirectional</span>)        │ ?                           │     <span style=\"color: #00af00; text-decoration-color: #00af00\">0</span> (unbuilt) │\n",
       "├──────────────────────────────────────┼─────────────────────────────┼─────────────────┤\n",
       "│ dense (<span style=\"color: #0087ff; text-decoration-color: #0087ff\">Dense</span>)                        │ ?                           │     <span style=\"color: #00af00; text-decoration-color: #00af00\">0</span> (unbuilt) │\n",
       "├──────────────────────────────────────┼─────────────────────────────┼─────────────────┤\n",
       "│ dense_1 (<span style=\"color: #0087ff; text-decoration-color: #0087ff\">Dense</span>)                      │ ?                           │     <span style=\"color: #00af00; text-decoration-color: #00af00\">0</span> (unbuilt) │\n",
       "├──────────────────────────────────────┼─────────────────────────────┼─────────────────┤\n",
       "│ dense_2 (<span style=\"color: #0087ff; text-decoration-color: #0087ff\">Dense</span>)                      │ ?                           │     <span style=\"color: #00af00; text-decoration-color: #00af00\">0</span> (unbuilt) │\n",
       "├──────────────────────────────────────┼─────────────────────────────┼─────────────────┤\n",
       "│ dense_3 (<span style=\"color: #0087ff; text-decoration-color: #0087ff\">Dense</span>)                      │ ?                           │     <span style=\"color: #00af00; text-decoration-color: #00af00\">0</span> (unbuilt) │\n",
       "└──────────────────────────────────────┴─────────────────────────────┴─────────────────┘\n",
       "</pre>\n"
      ],
      "text/plain": [
       "┏━━━━━━━━━━━━━━━━━━━━━━━━━━━━━━━━━━━━━━┳━━━━━━━━━━━━━━━━━━━━━━━━━━━━━┳━━━━━━━━━━━━━━━━━┓\n",
       "┃\u001b[1m \u001b[0m\u001b[1mLayer (type)                        \u001b[0m\u001b[1m \u001b[0m┃\u001b[1m \u001b[0m\u001b[1mOutput Shape               \u001b[0m\u001b[1m \u001b[0m┃\u001b[1m \u001b[0m\u001b[1m        Param #\u001b[0m\u001b[1m \u001b[0m┃\n",
       "┡━━━━━━━━━━━━━━━━━━━━━━━━━━━━━━━━━━━━━━╇━━━━━━━━━━━━━━━━━━━━━━━━━━━━━╇━━━━━━━━━━━━━━━━━┩\n",
       "│ embedding (\u001b[38;5;33mEmbedding\u001b[0m)                │ ?                           │     \u001b[38;5;34m0\u001b[0m (unbuilt) │\n",
       "├──────────────────────────────────────┼─────────────────────────────┼─────────────────┤\n",
       "│ bidirectional (\u001b[38;5;33mBidirectional\u001b[0m)        │ ?                           │     \u001b[38;5;34m0\u001b[0m (unbuilt) │\n",
       "├──────────────────────────────────────┼─────────────────────────────┼─────────────────┤\n",
       "│ dense (\u001b[38;5;33mDense\u001b[0m)                        │ ?                           │     \u001b[38;5;34m0\u001b[0m (unbuilt) │\n",
       "├──────────────────────────────────────┼─────────────────────────────┼─────────────────┤\n",
       "│ dense_1 (\u001b[38;5;33mDense\u001b[0m)                      │ ?                           │     \u001b[38;5;34m0\u001b[0m (unbuilt) │\n",
       "├──────────────────────────────────────┼─────────────────────────────┼─────────────────┤\n",
       "│ dense_2 (\u001b[38;5;33mDense\u001b[0m)                      │ ?                           │     \u001b[38;5;34m0\u001b[0m (unbuilt) │\n",
       "├──────────────────────────────────────┼─────────────────────────────┼─────────────────┤\n",
       "│ dense_3 (\u001b[38;5;33mDense\u001b[0m)                      │ ?                           │     \u001b[38;5;34m0\u001b[0m (unbuilt) │\n",
       "└──────────────────────────────────────┴─────────────────────────────┴─────────────────┘\n"
      ]
     },
     "metadata": {},
     "output_type": "display_data"
    },
    {
     "data": {
      "text/html": [
       "<pre style=\"white-space:pre;overflow-x:auto;line-height:normal;font-family:Menlo,'DejaVu Sans Mono',consolas,'Courier New',monospace\"><span style=\"font-weight: bold\"> Total params: </span><span style=\"color: #00af00; text-decoration-color: #00af00\">0</span> (0.00 B)\n",
       "</pre>\n"
      ],
      "text/plain": [
       "\u001b[1m Total params: \u001b[0m\u001b[38;5;34m0\u001b[0m (0.00 B)\n"
      ]
     },
     "metadata": {},
     "output_type": "display_data"
    },
    {
     "data": {
      "text/html": [
       "<pre style=\"white-space:pre;overflow-x:auto;line-height:normal;font-family:Menlo,'DejaVu Sans Mono',consolas,'Courier New',monospace\"><span style=\"font-weight: bold\"> Trainable params: </span><span style=\"color: #00af00; text-decoration-color: #00af00\">0</span> (0.00 B)\n",
       "</pre>\n"
      ],
      "text/plain": [
       "\u001b[1m Trainable params: \u001b[0m\u001b[38;5;34m0\u001b[0m (0.00 B)\n"
      ]
     },
     "metadata": {},
     "output_type": "display_data"
    },
    {
     "data": {
      "text/html": [
       "<pre style=\"white-space:pre;overflow-x:auto;line-height:normal;font-family:Menlo,'DejaVu Sans Mono',consolas,'Courier New',monospace\"><span style=\"font-weight: bold\"> Non-trainable params: </span><span style=\"color: #00af00; text-decoration-color: #00af00\">0</span> (0.00 B)\n",
       "</pre>\n"
      ],
      "text/plain": [
       "\u001b[1m Non-trainable params: \u001b[0m\u001b[38;5;34m0\u001b[0m (0.00 B)\n"
      ]
     },
     "metadata": {},
     "output_type": "display_data"
    }
   ],
   "source": [
    "model.summary()"
   ]
  },
  {
   "cell_type": "code",
   "execution_count": null,
   "metadata": {
    "ExecuteTime": {
     "start_time": "2024-09-19T17:35:52.151039Z"
    },
    "jupyter": {
     "is_executing": true
    },
    "tags": []
   },
   "outputs": [
    {
     "name": "stdout",
     "output_type": "stream",
     "text": [
      "\u001b[1m 137/6981\u001b[0m \u001b[37m━━━━━━━━━━━━━━━━━━━━\u001b[0m \u001b[1m1:41:59\u001b[0m 894ms/step - loss: 0.2851"
     ]
    }
   ],
   "source": [
    "history = model.fit(train, epochs=1, validation_data=val)"
   ]
  },
  {
   "cell_type": "code",
   "execution_count": 18,
   "metadata": {
    "ExecuteTime": {
     "end_time": "2024-09-19T17:34:47.287588500Z",
     "start_time": "2024-09-19T17:32:03.082662Z"
    },
    "tags": []
   },
   "outputs": [],
   "source": [
    "from matplotlib import pyplot as plt"
   ]
  },
  {
   "cell_type": "code",
   "execution_count": 23,
   "metadata": {
    "ExecuteTime": {
     "end_time": "2024-09-19T17:34:47.289595700Z",
     "start_time": "2024-09-19T17:32:06.260359Z"
    },
    "collapsed": true,
    "jupyter": {
     "outputs_hidden": true
    },
    "tags": []
   },
   "outputs": [
    {
     "ename": "NameError",
     "evalue": "name 'history' is not defined",
     "output_type": "error",
     "traceback": [
      "\u001b[1;31m---------------------------------------------------------------------------\u001b[0m",
      "\u001b[1;31mNameError\u001b[0m                                 Traceback (most recent call last)",
      "Cell \u001b[1;32mIn[23], line 2\u001b[0m\n\u001b[0;32m      1\u001b[0m plt\u001b[38;5;241m.\u001b[39mfigure(figsize\u001b[38;5;241m=\u001b[39m(\u001b[38;5;241m8\u001b[39m,\u001b[38;5;241m5\u001b[39m))\n\u001b[1;32m----> 2\u001b[0m pd\u001b[38;5;241m.\u001b[39mDataFrame(\u001b[43mhistory\u001b[49m\u001b[38;5;241m.\u001b[39mhistory)\u001b[38;5;241m.\u001b[39mplot()\n\u001b[0;32m      3\u001b[0m plt\u001b[38;5;241m.\u001b[39mshow()\n",
      "\u001b[1;31mNameError\u001b[0m: name 'history' is not defined"
     ]
    },
    {
     "data": {
      "text/plain": [
       "<Figure size 800x500 with 0 Axes>"
      ]
     },
     "metadata": {},
     "output_type": "display_data"
    }
   ],
   "source": [
    "plt.figure(figsize=(8,5))\n",
    "pd.DataFrame(history.history).plot()\n",
    "plt.show()"
   ]
  },
  {
   "cell_type": "markdown",
   "metadata": {},
   "source": [
    "# 3. Make Predictions"
   ]
  },
  {
   "cell_type": "code",
   "execution_count": 24,
   "metadata": {
    "ExecuteTime": {
     "end_time": "2024-09-19T17:34:47.290598Z",
     "start_time": "2024-09-19T17:32:15.601771Z"
    },
    "tags": []
   },
   "outputs": [],
   "source": [
    "input_text = vectorizer('You freaking suck! I am going to hit you.')"
   ]
  },
  {
   "cell_type": "code",
   "execution_count": null,
   "metadata": {},
   "outputs": [],
   "source": [
    "res = model.predict(input_text)"
   ]
  },
  {
   "cell_type": "code",
   "execution_count": null,
   "metadata": {
    "jupyter": {
     "source_hidden": true
    }
   },
   "outputs": [],
   "source": [
    "(res > 0.5).astype(int)"
   ]
  },
  {
   "cell_type": "code",
   "execution_count": null,
   "metadata": {},
   "outputs": [],
   "source": [
    "batch_X, batch_y = test.as_numpy_iterator().next()"
   ]
  },
  {
   "cell_type": "code",
   "execution_count": null,
   "metadata": {
    "collapsed": true,
    "jupyter": {
     "outputs_hidden": true
    },
    "tags": []
   },
   "outputs": [],
   "source": [
    "(model.predict(batch_X) > 0.5).astype(int)"
   ]
  },
  {
   "cell_type": "code",
   "execution_count": null,
   "metadata": {},
   "outputs": [],
   "source": [
    "res.shape"
   ]
  },
  {
   "cell_type": "markdown",
   "metadata": {},
   "source": [
    "# 4. Evaluate Model"
   ]
  },
  {
   "cell_type": "code",
   "execution_count": 19,
   "metadata": {
    "ExecuteTime": {
     "end_time": "2024-09-19T17:34:47.307596800Z",
     "start_time": "2024-09-19T17:32:22.655849Z"
    },
    "tags": []
   },
   "outputs": [],
   "source": [
    "from tensorflow.keras.metrics import Precision, Recall, CategoricalAccuracy"
   ]
  },
  {
   "cell_type": "code",
   "execution_count": 27,
   "metadata": {
    "ExecuteTime": {
     "end_time": "2024-09-19T17:34:47.307596800Z",
     "start_time": "2024-09-19T17:32:25.752017Z"
    },
    "tags": []
   },
   "outputs": [],
   "source": [
    "pre = Precision()\n",
    "re = Recall()\n",
    "acc = CategoricalAccuracy()"
   ]
  },
  {
   "cell_type": "code",
   "execution_count": null,
   "metadata": {
    "tags": []
   },
   "outputs": [],
   "source": [
    "for batch in test.as_numpy_iterator(): \n",
    "    # Unpack the batch \n",
    "    X_true, y_true = batch\n",
    "    # Make a prediction \n",
    "    yhat = model.predict(X_true)\n",
    "    \n",
    "    # Flatten the predictions\n",
    "    y_true = y_true.flatten()\n",
    "    yhat = yhat.flatten()\n",
    "    \n",
    "    pre.update_state(y_true, yhat)\n",
    "    re.update_state(y_true, yhat)\n",
    "    acc.update_state(y_true, yhat)"
   ]
  },
  {
   "cell_type": "code",
   "execution_count": null,
   "metadata": {
    "tags": []
   },
   "outputs": [],
   "source": [
    "print(f'Precision: {pre.result().numpy()}, Recall:{re.result().numpy()}, Accuracy:{acc.result().numpy()}')"
   ]
  },
  {
   "cell_type": "markdown",
   "metadata": {},
   "source": [
    "# 5. Test and Gradio"
   ]
  },
  {
   "cell_type": "code",
   "execution_count": null,
   "metadata": {
    "collapsed": true,
    "jupyter": {
     "outputs_hidden": true
    },
    "tags": []
   },
   "outputs": [],
   "source": [
    "!pip install gradio jinja2"
   ]
  },
  {
   "cell_type": "code",
   "execution_count": 35,
   "metadata": {
    "ExecuteTime": {
     "end_time": "2024-09-19T17:34:47.309594700Z",
     "start_time": "2024-09-19T17:33:47.226119Z"
    },
    "tags": []
   },
   "outputs": [],
   "source": [
    "import tensorflow as tf\n",
    "import gradio as gr"
   ]
  },
  {
   "cell_type": "code",
   "execution_count": null,
   "metadata": {
    "tags": []
   },
   "outputs": [],
   "source": [
    "model.save('toxicity.keras')"
   ]
  },
  {
   "cell_type": "code",
   "execution_count": 36,
   "metadata": {
    "ExecuteTime": {
     "end_time": "2024-09-19T17:34:47.309594700Z",
     "start_time": "2024-09-19T17:33:57.002281Z"
    },
    "tags": []
   },
   "outputs": [
    {
     "ename": "AttributeError",
     "evalue": "module 'tensorflow.keras' has no attribute 'saving'",
     "output_type": "error",
     "traceback": [
      "\u001b[1;31m---------------------------------------------------------------------------\u001b[0m",
      "\u001b[1;31mAttributeError\u001b[0m                            Traceback (most recent call last)",
      "Cell \u001b[1;32mIn[36], line 1\u001b[0m\n\u001b[1;32m----> 1\u001b[0m model \u001b[38;5;241m=\u001b[39m \u001b[43mtf\u001b[49m\u001b[38;5;241;43m.\u001b[39;49m\u001b[43mkeras\u001b[49m\u001b[38;5;241;43m.\u001b[39;49m\u001b[43msaving\u001b[49m\u001b[38;5;241m.\u001b[39mload_model(\u001b[38;5;124m'\u001b[39m\u001b[38;5;124mtoxicity.h5\u001b[39m\u001b[38;5;124m'\u001b[39m, custom_objects\u001b[38;5;241m=\u001b[39m{\u001b[38;5;124m'\u001b[39m\u001b[38;5;124mLSTM\u001b[39m\u001b[38;5;124m'\u001b[39m: LSTM})\n",
      "\u001b[1;31mAttributeError\u001b[0m: module 'tensorflow.keras' has no attribute 'saving'"
     ]
    }
   ],
   "source": [
    "model = tf.keras.saving.load_model('toxicity.h5')"
   ]
  },
  {
   "cell_type": "code",
   "execution_count": 31,
   "metadata": {},
   "outputs": [
    {
     "data": {
      "text/plain": [
       "'2.17.0'"
      ]
     },
     "execution_count": 31,
     "metadata": {},
     "output_type": "execute_result"
    }
   ],
   "source": [
    "tf.__version__"
   ]
  },
  {
   "cell_type": "code",
   "execution_count": 22,
   "metadata": {
    "tags": []
   },
   "outputs": [],
   "source": [
    "input_str = vectorizer('hey i freaken hate you!')"
   ]
  },
  {
   "cell_type": "code",
   "execution_count": 23,
   "metadata": {
    "tags": []
   },
   "outputs": [
    {
     "name": "stdout",
     "output_type": "stream",
     "text": [
      "\u001b[1m1/1\u001b[0m \u001b[32m━━━━━━━━━━━━━━━━━━━━\u001b[0m\u001b[37m\u001b[0m \u001b[1m2s\u001b[0m 2s/step\n"
     ]
    }
   ],
   "source": [
    "res = model.predict(np.expand_dims(input_str,0))"
   ]
  },
  {
   "cell_type": "code",
   "execution_count": 24,
   "metadata": {
    "tags": []
   },
   "outputs": [
    {
     "data": {
      "text/plain": [
       "array([[0.5021825 , 0.5025222 , 0.50195885, 0.49829042, 0.50043476,\n",
       "        0.5002433 ]], dtype=float32)"
      ]
     },
     "execution_count": 24,
     "metadata": {},
     "output_type": "execute_result"
    }
   ],
   "source": [
    "res"
   ]
  },
  {
   "cell_type": "code",
   "execution_count": 25,
   "metadata": {
    "tags": []
   },
   "outputs": [],
   "source": [
    "def score_comment(comment):\n",
    "    vectorized_comment = vectorizer([comment])\n",
    "    results = model.predict(vectorized_comment)\n",
    "    \n",
    "    text = ''\n",
    "    for idx, col in enumerate(df.columns[2:]):\n",
    "        text += '{}: {}\\n'.format(col, results[0][idx]>0.5)\n",
    "    \n",
    "    return text"
   ]
  },
  {
   "cell_type": "code",
   "execution_count": 27,
   "metadata": {
    "tags": []
   },
   "outputs": [],
   "source": [
    "interface = gr.Interface(fn=score_comment, \n",
    "                         inputs=gr.Textbox(lines=2, placeholder='Comment to score'),\n",
    "                        outputs='text')"
   ]
  },
  {
   "cell_type": "code",
   "execution_count": 28,
   "metadata": {
    "tags": []
   },
   "outputs": [
    {
     "name": "stdout",
     "output_type": "stream",
     "text": [
      "Running on local URL:  http://127.0.0.1:7860\n",
      "\n",
      "Could not create share link. Please check your internet connection or our status page: https://status.gradio.app.\n"
     ]
    },
    {
     "data": {
      "text/html": [
       "<div><iframe src=\"http://127.0.0.1:7860/\" width=\"100%\" height=\"500\" allow=\"autoplay; camera; microphone; clipboard-read; clipboard-write;\" frameborder=\"0\" allowfullscreen></iframe></div>"
      ],
      "text/plain": [
       "<IPython.core.display.HTML object>"
      ]
     },
     "metadata": {},
     "output_type": "display_data"
    },
    {
     "data": {
      "text/plain": []
     },
     "execution_count": 28,
     "metadata": {},
     "output_type": "execute_result"
    },
    {
     "name": "stdout",
     "output_type": "stream",
     "text": [
      "\u001b[1m1/1\u001b[0m \u001b[32m━━━━━━━━━━━━━━━━━━━━\u001b[0m\u001b[37m\u001b[0m \u001b[1m0s\u001b[0m 117ms/step\n",
      "\u001b[1m1/1\u001b[0m \u001b[32m━━━━━━━━━━━━━━━━━━━━\u001b[0m\u001b[37m\u001b[0m \u001b[1m0s\u001b[0m 81ms/step\n"
     ]
    }
   ],
   "source": [
    "interface.launch(share=True)"
   ]
  },
  {
   "cell_type": "code",
   "execution_count": null,
   "metadata": {
    "ExecuteTime": {
     "end_time": "2024-09-19T17:34:47.325259Z",
     "start_time": "2024-09-19T17:34:47.322099Z"
    }
   },
   "outputs": [],
   "source": []
  },
  {
   "cell_type": "code",
   "execution_count": null,
   "metadata": {},
   "outputs": [],
   "source": []
  }
 ],
 "metadata": {
  "kernelspec": {
   "display_name": "Python 3 (ipykernel)",
   "language": "python",
   "name": "python3"
  },
  "language_info": {
   "codemirror_mode": {
    "name": "ipython",
    "version": 3
   },
   "file_extension": ".py",
   "mimetype": "text/x-python",
   "name": "python",
   "nbconvert_exporter": "python",
   "pygments_lexer": "ipython3",
   "version": "3.12.4"
  }
 },
 "nbformat": 4,
 "nbformat_minor": 4
}
